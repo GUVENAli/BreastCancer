{
 "cells": [
  {
   "cell_type": "markdown",
   "metadata": {},
   "source": [
    "# Intrduction"
   ]
  },
  {
   "cell_type": "markdown",
   "metadata": {},
   "source": [
    "It is desired that classify whether a patient is breast cancer or not. For that, models must be created and use the models on the data given. The models is made of three different methods which are Support Vector Machine, Random Forest and Neural Network. To compare the models, Learning Curves is used. Learning Curves gives information about the variance and the bias of the models."
   ]
  },
  {
   "cell_type": "code",
   "execution_count": 14,
   "metadata": {},
   "outputs": [],
   "source": [
    "import pandas as pd"
   ]
  },
  {
   "cell_type": "code",
   "execution_count": 15,
   "metadata": {},
   "outputs": [],
   "source": [
    "dataFrame = pd.read_csv(\"Dataset\\\\breast-cancer-wisconsin.data\",header=None)"
   ]
  },
  {
   "cell_type": "code",
   "execution_count": 16,
   "metadata": {},
   "outputs": [
    {
     "data": {
      "text/html": [
       "<div>\n",
       "<style scoped>\n",
       "    .dataframe tbody tr th:only-of-type {\n",
       "        vertical-align: middle;\n",
       "    }\n",
       "\n",
       "    .dataframe tbody tr th {\n",
       "        vertical-align: top;\n",
       "    }\n",
       "\n",
       "    .dataframe thead th {\n",
       "        text-align: right;\n",
       "    }\n",
       "</style>\n",
       "<table border=\"1\" class=\"dataframe\">\n",
       "  <thead>\n",
       "    <tr style=\"text-align: right;\">\n",
       "      <th></th>\n",
       "      <th>0</th>\n",
       "      <th>1</th>\n",
       "      <th>2</th>\n",
       "      <th>3</th>\n",
       "      <th>4</th>\n",
       "      <th>5</th>\n",
       "      <th>6</th>\n",
       "      <th>7</th>\n",
       "      <th>8</th>\n",
       "      <th>9</th>\n",
       "      <th>10</th>\n",
       "    </tr>\n",
       "  </thead>\n",
       "  <tbody>\n",
       "    <tr>\n",
       "      <th>0</th>\n",
       "      <td>1000025</td>\n",
       "      <td>5</td>\n",
       "      <td>1</td>\n",
       "      <td>1</td>\n",
       "      <td>1</td>\n",
       "      <td>2</td>\n",
       "      <td>1</td>\n",
       "      <td>3</td>\n",
       "      <td>1</td>\n",
       "      <td>1</td>\n",
       "      <td>2</td>\n",
       "    </tr>\n",
       "    <tr>\n",
       "      <th>1</th>\n",
       "      <td>1002945</td>\n",
       "      <td>5</td>\n",
       "      <td>4</td>\n",
       "      <td>4</td>\n",
       "      <td>5</td>\n",
       "      <td>7</td>\n",
       "      <td>10</td>\n",
       "      <td>3</td>\n",
       "      <td>2</td>\n",
       "      <td>1</td>\n",
       "      <td>2</td>\n",
       "    </tr>\n",
       "    <tr>\n",
       "      <th>2</th>\n",
       "      <td>1015425</td>\n",
       "      <td>3</td>\n",
       "      <td>1</td>\n",
       "      <td>1</td>\n",
       "      <td>1</td>\n",
       "      <td>2</td>\n",
       "      <td>2</td>\n",
       "      <td>3</td>\n",
       "      <td>1</td>\n",
       "      <td>1</td>\n",
       "      <td>2</td>\n",
       "    </tr>\n",
       "    <tr>\n",
       "      <th>3</th>\n",
       "      <td>1016277</td>\n",
       "      <td>6</td>\n",
       "      <td>8</td>\n",
       "      <td>8</td>\n",
       "      <td>1</td>\n",
       "      <td>3</td>\n",
       "      <td>4</td>\n",
       "      <td>3</td>\n",
       "      <td>7</td>\n",
       "      <td>1</td>\n",
       "      <td>2</td>\n",
       "    </tr>\n",
       "    <tr>\n",
       "      <th>4</th>\n",
       "      <td>1017023</td>\n",
       "      <td>4</td>\n",
       "      <td>1</td>\n",
       "      <td>1</td>\n",
       "      <td>3</td>\n",
       "      <td>2</td>\n",
       "      <td>1</td>\n",
       "      <td>3</td>\n",
       "      <td>1</td>\n",
       "      <td>1</td>\n",
       "      <td>2</td>\n",
       "    </tr>\n",
       "  </tbody>\n",
       "</table>\n",
       "</div>"
      ],
      "text/plain": [
       "        0   1   2   3   4   5   6   7   8   9   10\n",
       "0  1000025   5   1   1   1   2   1   3   1   1   2\n",
       "1  1002945   5   4   4   5   7  10   3   2   1   2\n",
       "2  1015425   3   1   1   1   2   2   3   1   1   2\n",
       "3  1016277   6   8   8   1   3   4   3   7   1   2\n",
       "4  1017023   4   1   1   3   2   1   3   1   1   2"
      ]
     },
     "execution_count": 16,
     "metadata": {},
     "output_type": "execute_result"
    }
   ],
   "source": [
    "dataFrame.head()"
   ]
  },
  {
   "cell_type": "markdown",
   "metadata": {},
   "source": [
    "Eliminating the samples that have missing features."
   ]
  },
  {
   "cell_type": "code",
   "execution_count": 17,
   "metadata": {},
   "outputs": [],
   "source": [
    "import numpy as np\n",
    "dataFrame.replace({6: {'?': np.nan}}, regex=False,inplace=True)\n",
    "dataFrame = dataFrame.dropna()"
   ]
  },
  {
   "cell_type": "code",
   "execution_count": 18,
   "metadata": {},
   "outputs": [
    {
     "data": {
      "text/html": [
       "<div>\n",
       "<style scoped>\n",
       "    .dataframe tbody tr th:only-of-type {\n",
       "        vertical-align: middle;\n",
       "    }\n",
       "\n",
       "    .dataframe tbody tr th {\n",
       "        vertical-align: top;\n",
       "    }\n",
       "\n",
       "    .dataframe thead th {\n",
       "        text-align: right;\n",
       "    }\n",
       "</style>\n",
       "<table border=\"1\" class=\"dataframe\">\n",
       "  <thead>\n",
       "    <tr style=\"text-align: right;\">\n",
       "      <th></th>\n",
       "      <th>1</th>\n",
       "      <th>2</th>\n",
       "      <th>3</th>\n",
       "      <th>4</th>\n",
       "      <th>5</th>\n",
       "      <th>6</th>\n",
       "      <th>7</th>\n",
       "      <th>8</th>\n",
       "      <th>9</th>\n",
       "    </tr>\n",
       "  </thead>\n",
       "  <tbody>\n",
       "    <tr>\n",
       "      <th>0</th>\n",
       "      <td>5</td>\n",
       "      <td>1</td>\n",
       "      <td>1</td>\n",
       "      <td>1</td>\n",
       "      <td>2</td>\n",
       "      <td>1</td>\n",
       "      <td>3</td>\n",
       "      <td>1</td>\n",
       "      <td>1</td>\n",
       "    </tr>\n",
       "    <tr>\n",
       "      <th>1</th>\n",
       "      <td>5</td>\n",
       "      <td>4</td>\n",
       "      <td>4</td>\n",
       "      <td>5</td>\n",
       "      <td>7</td>\n",
       "      <td>10</td>\n",
       "      <td>3</td>\n",
       "      <td>2</td>\n",
       "      <td>1</td>\n",
       "    </tr>\n",
       "    <tr>\n",
       "      <th>2</th>\n",
       "      <td>3</td>\n",
       "      <td>1</td>\n",
       "      <td>1</td>\n",
       "      <td>1</td>\n",
       "      <td>2</td>\n",
       "      <td>2</td>\n",
       "      <td>3</td>\n",
       "      <td>1</td>\n",
       "      <td>1</td>\n",
       "    </tr>\n",
       "    <tr>\n",
       "      <th>3</th>\n",
       "      <td>6</td>\n",
       "      <td>8</td>\n",
       "      <td>8</td>\n",
       "      <td>1</td>\n",
       "      <td>3</td>\n",
       "      <td>4</td>\n",
       "      <td>3</td>\n",
       "      <td>7</td>\n",
       "      <td>1</td>\n",
       "    </tr>\n",
       "    <tr>\n",
       "      <th>4</th>\n",
       "      <td>4</td>\n",
       "      <td>1</td>\n",
       "      <td>1</td>\n",
       "      <td>3</td>\n",
       "      <td>2</td>\n",
       "      <td>1</td>\n",
       "      <td>3</td>\n",
       "      <td>1</td>\n",
       "      <td>1</td>\n",
       "    </tr>\n",
       "  </tbody>\n",
       "</table>\n",
       "</div>"
      ],
      "text/plain": [
       "   1  2  3  4  5   6  7  8  9\n",
       "0  5  1  1  1  2   1  3  1  1\n",
       "1  5  4  4  5  7  10  3  2  1\n",
       "2  3  1  1  1  2   2  3  1  1\n",
       "3  6  8  8  1  3   4  3  7  1\n",
       "4  4  1  1  3  2   1  3  1  1"
      ]
     },
     "execution_count": 18,
     "metadata": {},
     "output_type": "execute_result"
    }
   ],
   "source": [
    "Predictors = dataFrame.iloc[:,1:len(dataFrame.columns)-1]\n",
    "Predictors.head()"
   ]
  },
  {
   "cell_type": "code",
   "execution_count": 19,
   "metadata": {},
   "outputs": [
    {
     "data": {
      "text/plain": [
       "0    0\n",
       "1    0\n",
       "2    0\n",
       "3    0\n",
       "4    0\n",
       "Name: 10, dtype: int64"
      ]
     },
     "execution_count": 19,
     "metadata": {},
     "output_type": "execute_result"
    }
   ],
   "source": [
    "Classes = dataFrame.iloc[:,10].map({4 : 1, 2 : 0})\n",
    "Classes.head()"
   ]
  },
  {
   "cell_type": "code",
   "execution_count": 20,
   "metadata": {},
   "outputs": [
    {
     "name": "stderr",
     "output_type": "stream",
     "text": [
      "C:\\Anaconda3\\lib\\site-packages\\sklearn\\preprocessing\\data.py:625: DataConversionWarning: Data with input dtype int64, object were all converted to float64 by StandardScaler.\n",
      "  return self.partial_fit(X, y)\n",
      "C:\\Anaconda3\\lib\\site-packages\\sklearn\\base.py:462: DataConversionWarning: Data with input dtype int64, object were all converted to float64 by StandardScaler.\n",
      "  return self.fit(X, **fit_params).transform(X)\n"
     ]
    }
   ],
   "source": [
    "from sklearn import preprocessing # Normalize Data\n",
    "names = Predictors.columns\n",
    "scaler = preprocessing.StandardScaler()\n",
    "Predictors_norm = scaler.fit_transform(Predictors)\n",
    "Predictors_norm = pd.DataFrame(Predictors_norm, columns=names)"
   ]
  },
  {
   "cell_type": "code",
   "execution_count": 21,
   "metadata": {},
   "outputs": [
    {
     "data": {
      "text/html": [
       "<div>\n",
       "<style scoped>\n",
       "    .dataframe tbody tr th:only-of-type {\n",
       "        vertical-align: middle;\n",
       "    }\n",
       "\n",
       "    .dataframe tbody tr th {\n",
       "        vertical-align: top;\n",
       "    }\n",
       "\n",
       "    .dataframe thead th {\n",
       "        text-align: right;\n",
       "    }\n",
       "</style>\n",
       "<table border=\"1\" class=\"dataframe\">\n",
       "  <thead>\n",
       "    <tr style=\"text-align: right;\">\n",
       "      <th></th>\n",
       "      <th>1</th>\n",
       "      <th>2</th>\n",
       "      <th>3</th>\n",
       "      <th>4</th>\n",
       "      <th>5</th>\n",
       "      <th>6</th>\n",
       "      <th>7</th>\n",
       "      <th>8</th>\n",
       "      <th>9</th>\n",
       "    </tr>\n",
       "  </thead>\n",
       "  <tbody>\n",
       "    <tr>\n",
       "      <th>0</th>\n",
       "      <td>0.197905</td>\n",
       "      <td>-0.702212</td>\n",
       "      <td>-0.741774</td>\n",
       "      <td>-0.639366</td>\n",
       "      <td>-0.555608</td>\n",
       "      <td>-0.698853</td>\n",
       "      <td>-0.181827</td>\n",
       "      <td>-0.612927</td>\n",
       "      <td>-0.3484</td>\n",
       "    </tr>\n",
       "    <tr>\n",
       "      <th>1</th>\n",
       "      <td>0.197905</td>\n",
       "      <td>0.277252</td>\n",
       "      <td>0.262783</td>\n",
       "      <td>0.758032</td>\n",
       "      <td>1.695166</td>\n",
       "      <td>1.772867</td>\n",
       "      <td>-0.181827</td>\n",
       "      <td>-0.285105</td>\n",
       "      <td>-0.3484</td>\n",
       "    </tr>\n",
       "    <tr>\n",
       "      <th>2</th>\n",
       "      <td>-0.511643</td>\n",
       "      <td>-0.702212</td>\n",
       "      <td>-0.741774</td>\n",
       "      <td>-0.639366</td>\n",
       "      <td>-0.555608</td>\n",
       "      <td>-0.424217</td>\n",
       "      <td>-0.181827</td>\n",
       "      <td>-0.612927</td>\n",
       "      <td>-0.3484</td>\n",
       "    </tr>\n",
       "    <tr>\n",
       "      <th>3</th>\n",
       "      <td>0.552679</td>\n",
       "      <td>1.583204</td>\n",
       "      <td>1.602192</td>\n",
       "      <td>-0.639366</td>\n",
       "      <td>-0.105454</td>\n",
       "      <td>0.125054</td>\n",
       "      <td>-0.181827</td>\n",
       "      <td>1.354008</td>\n",
       "      <td>-0.3484</td>\n",
       "    </tr>\n",
       "    <tr>\n",
       "      <th>4</th>\n",
       "      <td>-0.156869</td>\n",
       "      <td>-0.702212</td>\n",
       "      <td>-0.741774</td>\n",
       "      <td>0.059333</td>\n",
       "      <td>-0.555608</td>\n",
       "      <td>-0.698853</td>\n",
       "      <td>-0.181827</td>\n",
       "      <td>-0.612927</td>\n",
       "      <td>-0.3484</td>\n",
       "    </tr>\n",
       "  </tbody>\n",
       "</table>\n",
       "</div>"
      ],
      "text/plain": [
       "          1         2         3         4         5         6         7  \\\n",
       "0  0.197905 -0.702212 -0.741774 -0.639366 -0.555608 -0.698853 -0.181827   \n",
       "1  0.197905  0.277252  0.262783  0.758032  1.695166  1.772867 -0.181827   \n",
       "2 -0.511643 -0.702212 -0.741774 -0.639366 -0.555608 -0.424217 -0.181827   \n",
       "3  0.552679  1.583204  1.602192 -0.639366 -0.105454  0.125054 -0.181827   \n",
       "4 -0.156869 -0.702212 -0.741774  0.059333 -0.555608 -0.698853 -0.181827   \n",
       "\n",
       "          8       9  \n",
       "0 -0.612927 -0.3484  \n",
       "1 -0.285105 -0.3484  \n",
       "2 -0.612927 -0.3484  \n",
       "3  1.354008 -0.3484  \n",
       "4 -0.612927 -0.3484  "
      ]
     },
     "execution_count": 21,
     "metadata": {},
     "output_type": "execute_result"
    }
   ],
   "source": [
    "Predictors_norm.head()"
   ]
  },
  {
   "cell_type": "code",
   "execution_count": 22,
   "metadata": {},
   "outputs": [],
   "source": [
    "from sklearn.model_selection import train_test_split # Split data into test and train\n",
    "X_train, X_test, y_train, y_test = train_test_split(Predictors_norm, Classes, test_size = 0.33, random_state = 42)"
   ]
  },
  {
   "cell_type": "markdown",
   "metadata": {},
   "source": [
    "## Support Vector Machine Classifier (SVM)"
   ]
  },
  {
   "cell_type": "code",
   "execution_count": 23,
   "metadata": {},
   "outputs": [],
   "source": [
    "from sklearn.model_selection import GridSearchCV # Grid Search\n",
    "from sklearn import svm # SVM Classifier\n",
    "def SVM_Optimization(SVM_Predictors, SVM_Classes, num_of_folds):\n",
    "    # SVM_Predictors: Feature matrix of the data\n",
    "    # SVM_Classes   : Class (Label / Target) vector of the data\n",
    "    # num_of_folds  : fold number for k fold - Cross Validation\n",
    "    \n",
    "    # Smaller tolerance = large margin, Larger tolerance = Small margin\n",
    "    tolerances = [0.001, 0.01, 0.05, 0.1, 0.5, 1, 3, 5, 10]\n",
    "    \n",
    "    # Gamma is kind of variance. If Gamma is too large, it is more like overfitting\n",
    "    Gammas = [0.001, 0.01, 0.05, 0.1, 0.5, 1]\n",
    "    parameters_of_gridsearch = {'C' : tolerances, 'gamma' : Gammas, 'kernel' :\n",
    "        ['linear', 'poly', 'rbf']}\n",
    "    \n",
    "    grid_search_optimization = GridSearchCV(svm.SVC(),\n",
    "                                            parameters_of_gridsearch, \n",
    "                                            cv = num_of_folds, iid = False)\n",
    "    grid_search_optimization.fit(SVM_Predictors, SVM_Classes)\n",
    "    return grid_search_optimization.best_params_"
   ]
  },
  {
   "cell_type": "code",
   "execution_count": 24,
   "metadata": {},
   "outputs": [],
   "source": [
    "optimized_param = SVM_Optimization(X_train, y_train,10)"
   ]
  },
  {
   "cell_type": "code",
   "execution_count": 25,
   "metadata": {},
   "outputs": [
    {
     "data": {
      "text/plain": [
       "SVC(C=5, cache_size=200, class_weight=None, coef0=0.0,\n",
       "  decision_function_shape='ovr', degree=3, gamma=0.01, kernel='rbf',\n",
       "  max_iter=-1, probability=False, random_state=None, shrinking=True,\n",
       "  tol=0.001, verbose=False)"
      ]
     },
     "execution_count": 25,
     "metadata": {},
     "output_type": "execute_result"
    }
   ],
   "source": [
    "svm_model = svm.SVC(C = optimized_param['C'], gamma = optimized_param['gamma'],\n",
    "                    kernel = optimized_param['kernel'])\n",
    "\n",
    "svm_model.fit(X_train, y_train)"
   ]
  },
  {
   "cell_type": "code",
   "execution_count": 28,
   "metadata": {},
   "outputs": [
    {
     "name": "stdout",
     "output_type": "stream",
     "text": [
      "SVM training Accuracy of the mean of 10 - Fold Cross Validation is  0.9782608695652174\n",
      "SVM test Accuracy is  0.9646017699115044\n"
     ]
    }
   ],
   "source": [
    "from sklearn.metrics import accuracy_score # Accuracy\n",
    "from sklearn.model_selection import cross_val_score # K-Fold Cross Validation\n",
    "from sklearn.model_selection import KFold # K-Fold Cross Validation\n",
    "\n",
    "svm_predictions = svm_model.predict(X_test)\n",
    "\n",
    "kfold = KFold(n_splits=10,random_state=7, shuffle=True)\n",
    "scores = cross_val_score(svm_model, X_train, y_train, scoring='accuracy' ,cv=kfold).mean()\n",
    "\n",
    "svm_train_acc = scores\n",
    "print(\"SVM training Accuracy of the mean of 10 - Fold Cross Validation is \", svm_train_acc)\n",
    "\n",
    "svm_test_acc = accuracy_score(y_test, svm_predictions)\n",
    "print(\"SVM test Accuracy is \", svm_test_acc)"
   ]
  },
  {
   "cell_type": "code",
   "execution_count": 29,
   "metadata": {},
   "outputs": [
    {
     "data": {
      "text/plain": [
       "<matplotlib.legend.Legend at 0x2205fe3fda0>"
      ]
     },
     "execution_count": 29,
     "metadata": {},
     "output_type": "execute_result"
    },
    {
     "data": {
      "image/png": "[encoded data removed]",
      "text/plain": [
       "<Figure size 432x288 with 1 Axes>"
      ]
     },
     "metadata": {
      "needs_background": "light"
     },
     "output_type": "display_data"
    }
   ],
   "source": [
    "# Plot the learning curve of SVM\n",
    "from sklearn.model_selection import learning_curve # Learning Curve\n",
    "import matplotlib.pyplot as plt # Plot Learning curve\n",
    "\n",
    "train_size = np.linspace(0.1, 1.0, 20)\n",
    "plt.figure()\n",
    "plt.title(\"Learning Curve for SVM\")\n",
    "plt.xlabel(\"Traning Set Size\")\n",
    "plt.ylabel(\"Error\")\n",
    "train_sizes, train_scores, test_scores = learning_curve(\n",
    "        svm_model, X_train, y_train, cv=10, train_sizes=train_size, \n",
    "        scoring = 'neg_mean_squared_error')\n",
    "\n",
    "train_scores_mean = -np.mean(train_scores, axis=1)\n",
    "test_scores_mean = -np.mean(test_scores, axis=1)\n",
    "plt.grid()\n",
    "\n",
    "plt.plot(train_sizes, train_scores_mean, 'o-', color=\"r\",\n",
    "             label=\"Training score\")\n",
    "plt.plot(train_sizes, test_scores_mean, 'o-', color=\"b\",\n",
    "             label=\"Cross-validation score\")\n",
    "\n",
    "plt.legend(loc=\"best\")"
   ]
  },
  {
   "cell_type": "markdown",
   "metadata": {},
   "source": [
    "## Random Forest (RF)"
   ]
  },
  {
   "cell_type": "code",
   "execution_count": 30,
   "metadata": {},
   "outputs": [],
   "source": [
    "from sklearn.model_selection import GridSearchCV # Grid Search\n",
    "from sklearn.ensemble import RandomForestClassifier # RF Classifier\n",
    "# Random Forest Optimization\n",
    "def RF_Optimization(RF_Predictors, RF_Classes, num_of_folds):\n",
    "    # RF_Predictors: Feature matrix of the data\n",
    "    # RF_Classes   : Class (Label / Target) vector of the data\n",
    "    # num_of_folds : fold number for k fold - Cross Validation\n",
    "    \n",
    "    # Number of trees\n",
    "    num_tree = [int (x) for x in np.linspace(10, 100, 10)]\n",
    "    \n",
    "    # Method for RF\n",
    "    bootstrap = [True, False]\n",
    "   \n",
    "    parameters_of_gridsearch = {'n_estimators' : num_tree,\n",
    "                                'bootstrap' : bootstrap,\n",
    "                                'criterion' : ['gini', 'entropy']}\n",
    "    \n",
    "    kfold = KFold(n_splits=num_of_folds,random_state=7, shuffle=True)\n",
    "    \n",
    "    # GridSearch with k-fold Cross Validation\n",
    "    grid_search_optimization = GridSearchCV(estimator = RandomForestClassifier(),\n",
    "                                            param_grid = parameters_of_gridsearch, \n",
    "                                            cv = kfold, iid = False)\n",
    "    grid_search_optimization.fit(RF_Predictors, RF_Classes)\n",
    "    \n",
    "    return grid_search_optimization.best_params_"
   ]
  },
  {
   "cell_type": "code",
   "execution_count": 31,
   "metadata": {},
   "outputs": [
    {
     "name": "stdout",
     "output_type": "stream",
     "text": [
      "RF training Accuracy of the mean of 10 - Fold Cross Validation is  0.9673429951690821\n",
      "RF test Accuracy is  0.9513274336283186\n"
     ]
    }
   ],
   "source": [
    "# Random Forest Classification\n",
    "from sklearn.metrics import accuracy_score # Accuracy\n",
    "from sklearn.model_selection import cross_val_score # K-Fold Cross Validation\n",
    "from sklearn.model_selection import KFold # K-Fold Cross Validation\n",
    "\n",
    "optimized_param_rf = RF_Optimization(X_train, y_train,10)\n",
    "\n",
    "rf_model = RandomForestClassifier(n_estimators = optimized_param_rf['n_estimators'],\n",
    "                                  bootstrap = optimized_param_rf['bootstrap'],\n",
    "                                  criterion = optimized_param_rf['criterion'],\n",
    "                                  random_state = 42)\n",
    "rf_model.fit(X_train, y_train)\n",
    "\n",
    "rf_predictions = rf_model.predict(X_test)\n",
    "\n",
    "kfold = KFold(n_splits=10,random_state=7, shuffle=True)\n",
    "scores = cross_val_score(rf_model, X_train, y_train, scoring='accuracy' ,cv=kfold).mean()\n",
    "\n",
    "rf_train_acc = scores\n",
    "print(\"RF training Accuracy of the mean of 10 - Fold Cross Validation is \", rf_train_acc)\n",
    "\n",
    "rf_test_acc = accuracy_score(y_test, rf_predictions)\n",
    "print(\"RF test Accuracy is \", rf_test_acc)"
   ]
  },
  {
   "cell_type": "code",
   "execution_count": 32,
   "metadata": {},
   "outputs": [
    {
     "data": {
      "text/plain": [
       "<matplotlib.legend.Legend at 0x2205fb46dd8>"
      ]
     },
     "execution_count": 32,
     "metadata": {},
     "output_type": "execute_result"
    },
    {
     "data": {
      "image/png": "[encoded data removed]",
      "text/plain": [
       "<Figure size 432x288 with 1 Axes>"
      ]
     },
     "metadata": {
      "needs_background": "light"
     },
     "output_type": "display_data"
    }
   ],
   "source": [
    "# Plot the learning curve of Random Forest\n",
    "from sklearn.model_selection import learning_curve # Learning Curve\n",
    "import matplotlib.pyplot as plt # Plot Learning curve\n",
    "\n",
    "train_size = np.linspace(0.1, 1.0, 20)\n",
    "plt.figure()\n",
    "plt.title(\"Learning Curve for Random Forest\")\n",
    "plt.xlabel(\"Traning Set Size\")\n",
    "plt.ylabel(\"Error\")\n",
    "train_sizes, train_scores, test_scores = learning_curve(\n",
    "        rf_model, X_train, y_train, cv=10, train_sizes=train_size, \n",
    "        scoring = 'neg_mean_squared_error')\n",
    "\n",
    "train_scores_mean = -np.mean(train_scores, axis=1)\n",
    "test_scores_mean = -np.mean(test_scores, axis=1)\n",
    "plt.grid()\n",
    "\n",
    "plt.plot(train_sizes, train_scores_mean, 'o-', color=\"r\",\n",
    "             label=\"Training score\")\n",
    "plt.plot(train_sizes, test_scores_mean, 'o-', color=\"b\",\n",
    "             label=\"Cross-validation score\")\n",
    "\n",
    "plt.legend(loc=\"best\")"
   ]
  },
  {
   "cell_type": "markdown",
   "metadata": {},
   "source": [
    "## Neural Network (NN)"
   ]
  },
  {
   "cell_type": "code",
   "execution_count": 33,
   "metadata": {},
   "outputs": [],
   "source": [
    "# Neural Network GridSearch Optimization\n",
    "from sklearn.model_selection import GridSearchCV # Grid Search\n",
    "from sklearn.neural_network import MLPClassifier # Neural Network Classifier\n",
    "\n",
    "def NN_Optimization(NN_Predictors, NN_Classes, num_of_folds):\n",
    "    # NN_Predictors: Feature matrix of the data\n",
    "    # NN_Classes   : Class (Label / Target) vector of the data\n",
    "    # num_of_folds : fold number for k fold - Cross Validation\n",
    "    \n",
    "    # Solver\n",
    "    solver = ['lbfgs', 'adam']\n",
    "    \n",
    "    # Activation function for the hidden layer\n",
    "    activation = ['logistic', 'tanh', 'relu']\n",
    "    \n",
    "    # Hidden Layer size\n",
    "    hidden_layer_sizes = [(5,), (8,), (15,), (100,)]\n",
    "    \n",
    "    # Alpha, L2 penalty regularization parameter\n",
    "    alpha = 10.0 ** -np.arange(1, 5)\n",
    "    \n",
    "    # Maximum iteration\n",
    "    max_iter = [1200, 1500]\n",
    "    \n",
    "    # Random State\n",
    "    random_state = [0, 1, 2, 5, 10, 42]\n",
    "   \n",
    "    parameters_of_gridsearch = {'solver' : solver,\n",
    "                                'activation' : activation,\n",
    "                                'hidden_layer_sizes' : hidden_layer_sizes,\n",
    "                                'max_iter' : max_iter,\n",
    "                                'alpha' : alpha,\n",
    "                                'random_state' : random_state,\n",
    "                                'early_stopping' : [True]}\n",
    "    \n",
    "    kfold = KFold(n_splits=num_of_folds,random_state=7, shuffle=True)\n",
    "\n",
    "    # GridSearch with k-fold Cross Validation\n",
    "    grid_search_optimization = GridSearchCV(estimator = MLPClassifier(),\n",
    "                                            param_grid = parameters_of_gridsearch, \n",
    "                                            cv = kfold,\n",
    "                                            iid = False)\n",
    "    \n",
    "    grid_search_optimization.fit(NN_Predictors, NN_Classes)\n",
    "    \n",
    "    return grid_search_optimization.best_params_"
   ]
  },
  {
   "cell_type": "code",
   "execution_count": 34,
   "metadata": {},
   "outputs": [
    {
     "name": "stdout",
     "output_type": "stream",
     "text": [
      "NN training Accuracy of the mean of 10 - Fold Cross Validation is  0.9716908212560387\n",
      "NN test Accuracy is  0.9601769911504425\n"
     ]
    }
   ],
   "source": [
    "# Neural Network Classification\n",
    "optimized_param_nn = NN_Optimization(X_train, y_train,10)\n",
    "\n",
    "nn_model = MLPClassifier(solver = optimized_param_nn['solver'],\n",
    "                         activation = optimized_param_nn['activation'],\n",
    "                         hidden_layer_sizes = optimized_param_nn['hidden_layer_sizes'],\n",
    "                         max_iter = optimized_param_nn['max_iter'],\n",
    "                         alpha = optimized_param_nn['alpha'],\n",
    "                         random_state = optimized_param_nn['random_state'],\n",
    "                         early_stopping = True)\n",
    "\n",
    "nn_model.fit(X_train, y_train)\n",
    "\n",
    "nn_predictions = nn_model.predict(X_test)\n",
    "\n",
    "kfold = KFold(n_splits=10,random_state=7, shuffle=True)\n",
    "scores = cross_val_score(nn_model, X_train, y_train, scoring='accuracy' ,cv=kfold).mean()\n",
    "\n",
    "nn_train_acc = scores\n",
    "print(\"NN training Accuracy of the mean of 10 - Fold Cross Validation is \", nn_train_acc)\n",
    "\n",
    "nn_test_acc = accuracy_score(y_test, nn_predictions)\n",
    "print(\"NN test Accuracy is \", nn_test_acc)"
   ]
  },
  {
   "cell_type": "code",
   "execution_count": 35,
   "metadata": {},
   "outputs": [
    {
     "data": {
      "text/plain": [
       "<matplotlib.legend.Legend at 0x2205fe68748>"
      ]
     },
     "execution_count": 35,
     "metadata": {},
     "output_type": "execute_result"
    },
    {
     "data": {
      "image/png": "[encoded data removed]",
      "text/plain": [
       "<Figure size 432x288 with 1 Axes>"
      ]
     },
     "metadata": {
      "needs_background": "light"
     },
     "output_type": "display_data"
    }
   ],
   "source": [
    "# Plot the learning curve of Neural Network\n",
    "from sklearn.model_selection import learning_curve # Learning Curve\n",
    "import matplotlib.pyplot as plt # Plot Learning curve\n",
    "train_size = np.linspace(0.1, 1.0, 20)\n",
    "plt.figure()\n",
    "plt.title(\"Learning Curve for Neural Network\")\n",
    "plt.xlabel(\"Traning Set Size\")\n",
    "plt.ylabel(\"Error\")\n",
    "train_sizes, train_scores, test_scores = learning_curve(\n",
    "        nn_model, X_train, y_train, cv=10, train_sizes=train_size, \n",
    "        scoring = 'neg_mean_squared_error')\n",
    "\n",
    "train_scores_mean = -np.mean(train_scores, axis=1)\n",
    "test_scores_mean = -np.mean(test_scores, axis=1)\n",
    "plt.grid()\n",
    "\n",
    "plt.plot(train_sizes, train_scores_mean, 'o-', color=\"r\",\n",
    "             label=\"Training score\")\n",
    "plt.plot(train_sizes, test_scores_mean, 'o-', color=\"b\",\n",
    "             label=\"Cross-validation score\")\n",
    "\n",
    "plt.legend(loc=\"best\")"
   ]
  },
  {
   "cell_type": "markdown",
   "metadata": {},
   "source": [
    "## Conclusion"
   ]
  },
  {
   "cell_type": "markdown",
   "metadata": {},
   "source": [
    "The learning curves gives the information about the variance and the bias of the models. If Cross-Validation curve is near the x-axis, which means the error is too small, then bias is low. If the gap between Cross-Validation curve and the training error curve is small, then variance is low. To sum up, the gap between the cross-validation curve and the training error curve gives information about the variance of the model. If it is small, then variance is low. If it is large, then variance is high. On the other hand, the gap between the cross validation error curve and the x-axis of the figure gives information about the bias of the model. If it is small, then the bias is low. If it is large, then the bias is large. So that, the learning curve for SVM model has the smallest variance than the others and the learning curve for Random Forest and Neural Network has the smallest bias than SVM. The variances of Random Forest and Neural Network are too close with each other, but Neural Network seems to be a little bit small."
   ]
  }
 ],
 "metadata": {
  "kernelspec": {
   "display_name": "Python 3",
   "language": "python",
   "name": "python3"
  },
  "language_info": {
   "codemirror_mode": {
    "name": "ipython",
    "version": 3
   },
   "file_extension": ".py",
   "mimetype": "text/x-python",
   "name": "python",
   "nbconvert_exporter": "python",
   "pygments_lexer": "ipython3",
   "version": "3.7.1"
  }
 },
 "nbformat": 4,
 "nbformat_minor": 2
}
